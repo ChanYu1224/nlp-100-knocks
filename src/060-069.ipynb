{
 "cells": [
  {
   "cell_type": "code",
   "execution_count": 1,
   "metadata": {},
   "outputs": [],
   "source": [
    "from gensim.models import keyedvectors"
   ]
  },
  {
   "cell_type": "markdown",
   "metadata": {},
   "source": [
    "### 060 単語ベクトルの読み込みと表示"
   ]
  },
  {
   "cell_type": "code",
   "execution_count": 2,
   "metadata": {},
   "outputs": [],
   "source": [
    "model = keyedvectors.load_word2vec_format('../data/GoogleNews-vectors-negative300.bin', binary=True)"
   ]
  },
  {
   "cell_type": "code",
   "execution_count": 3,
   "metadata": {},
   "outputs": [
    {
     "name": "stdout",
     "output_type": "stream",
     "text": [
      "[-3.61328125e-02 -4.83398438e-02  2.35351562e-01  1.74804688e-01\n",
      " -1.46484375e-01 -7.42187500e-02 -1.01562500e-01 -7.71484375e-02\n",
      "  1.09375000e-01 -5.71289062e-02 -1.48437500e-01 -6.00585938e-02\n",
      "  1.74804688e-01 -7.71484375e-02  2.58789062e-02 -7.66601562e-02\n",
      " -3.80859375e-02  1.35742188e-01  3.75976562e-02 -4.19921875e-02\n",
      " -3.56445312e-02  5.34667969e-02  3.68118286e-04 -1.66992188e-01\n",
      " -1.17187500e-01  1.41601562e-01 -1.69921875e-01 -6.49414062e-02\n",
      " -1.66992188e-01  1.00585938e-01  1.15722656e-01 -2.18750000e-01\n",
      " -9.86328125e-02 -2.56347656e-02  1.23046875e-01 -3.54003906e-02\n",
      " -1.58203125e-01 -1.60156250e-01  2.94189453e-02  8.15429688e-02\n",
      "  6.88476562e-02  1.87500000e-01  6.49414062e-02  1.15234375e-01\n",
      " -2.27050781e-02  3.32031250e-01 -3.27148438e-02  1.77734375e-01\n",
      " -2.08007812e-01  4.54101562e-02 -1.23901367e-02  1.19628906e-01\n",
      "  7.44628906e-03 -9.03320312e-03  1.14257812e-01  1.69921875e-01\n",
      " -2.38281250e-01 -2.79541016e-02 -1.21093750e-01  2.47802734e-02\n",
      "  7.71484375e-02 -2.81982422e-02 -4.71191406e-02  1.78222656e-02\n",
      " -1.23046875e-01 -5.32226562e-02  2.68554688e-02 -3.11279297e-02\n",
      " -5.59082031e-02 -5.00488281e-02 -3.73535156e-02  1.25976562e-01\n",
      "  5.61523438e-02  1.51367188e-01  4.29687500e-02 -2.08007812e-01\n",
      " -4.78515625e-02  2.78320312e-02  1.81640625e-01  2.20703125e-01\n",
      " -3.61328125e-02 -8.39843750e-02 -3.69548798e-05 -9.52148438e-02\n",
      " -1.25000000e-01 -1.95312500e-01 -1.50390625e-01 -4.15039062e-02\n",
      "  1.31835938e-01  1.17675781e-01  1.91650391e-02  5.51757812e-02\n",
      " -9.42382812e-02 -1.08886719e-01  7.32421875e-02 -1.15234375e-01\n",
      "  8.93554688e-02 -1.40625000e-01  1.45507812e-01  4.49218750e-02\n",
      " -1.10473633e-02 -1.62353516e-02  4.05883789e-03  3.75976562e-02\n",
      " -6.98242188e-02 -5.46875000e-02  2.17285156e-02 -9.47265625e-02\n",
      "  4.24804688e-02  1.81884766e-02 -1.73339844e-02  4.63867188e-02\n",
      " -1.42578125e-01  1.99218750e-01  1.10839844e-01  2.58789062e-02\n",
      " -7.08007812e-02 -5.54199219e-02  3.45703125e-01  1.61132812e-01\n",
      " -2.44140625e-01 -2.59765625e-01 -9.71679688e-02  8.00781250e-02\n",
      " -8.78906250e-02 -7.22656250e-02  1.42578125e-01 -8.54492188e-02\n",
      " -3.18359375e-01  8.30078125e-02  6.34765625e-02  1.64062500e-01\n",
      " -1.92382812e-01 -1.17675781e-01 -5.41992188e-02 -1.56250000e-01\n",
      " -1.21582031e-01 -4.95605469e-02  1.20117188e-01 -3.83300781e-02\n",
      "  5.51757812e-02 -8.97216797e-03  4.32128906e-02  6.93359375e-02\n",
      "  8.93554688e-02  2.53906250e-01  1.65039062e-01  1.64062500e-01\n",
      " -1.41601562e-01  4.58984375e-02  1.97265625e-01 -8.98437500e-02\n",
      "  3.90625000e-02 -1.51367188e-01 -8.60595703e-03 -1.17675781e-01\n",
      " -1.97265625e-01 -1.12792969e-01  1.29882812e-01  1.96289062e-01\n",
      "  1.56402588e-03  3.93066406e-02  2.17773438e-01 -1.43554688e-01\n",
      "  6.03027344e-02 -1.35742188e-01  1.16210938e-01 -1.59912109e-02\n",
      "  2.79296875e-01  1.46484375e-01 -1.19628906e-01  1.76757812e-01\n",
      "  1.28906250e-01 -1.49414062e-01  6.93359375e-02 -1.72851562e-01\n",
      "  9.22851562e-02  1.33056641e-02 -2.00195312e-01 -9.76562500e-02\n",
      " -1.65039062e-01 -2.46093750e-01 -2.35595703e-02 -2.11914062e-01\n",
      "  1.84570312e-01 -1.85546875e-02  2.16796875e-01  5.05371094e-02\n",
      "  2.02636719e-02  4.25781250e-01  1.28906250e-01 -2.77099609e-02\n",
      "  1.29882812e-01 -1.15722656e-01 -2.05078125e-02  1.49414062e-01\n",
      "  7.81250000e-03 -2.05078125e-01 -8.05664062e-02 -2.67578125e-01\n",
      " -2.29492188e-02 -8.20312500e-02  8.64257812e-02  7.61718750e-02\n",
      " -3.66210938e-02  5.22460938e-02 -1.22070312e-01 -1.44042969e-02\n",
      " -2.69531250e-01  8.44726562e-02 -2.52685547e-02 -2.96630859e-02\n",
      " -1.68945312e-01  1.93359375e-01 -1.08398438e-01  1.94091797e-02\n",
      " -1.80664062e-01  1.93359375e-01 -7.08007812e-02  5.85937500e-02\n",
      " -1.01562500e-01 -1.31835938e-01  7.51953125e-02 -7.66601562e-02\n",
      "  3.37219238e-03 -8.59375000e-02  1.25000000e-01  2.92968750e-02\n",
      "  1.70898438e-01 -9.37500000e-02 -1.09375000e-01 -2.50244141e-02\n",
      "  2.11914062e-01 -4.44335938e-02  6.12792969e-02  2.62451172e-02\n",
      " -1.77734375e-01  1.23046875e-01 -7.42187500e-02 -1.67968750e-01\n",
      " -1.08886719e-01 -9.04083252e-04 -7.37304688e-02  5.49316406e-02\n",
      "  6.03027344e-02  8.39843750e-02  9.17968750e-02 -1.32812500e-01\n",
      "  1.22070312e-01 -8.78906250e-03  1.19140625e-01 -1.94335938e-01\n",
      " -6.64062500e-02 -2.07031250e-01  7.37304688e-02  8.93554688e-02\n",
      "  1.81884766e-02 -1.20605469e-01 -2.61230469e-02  2.67333984e-02\n",
      "  7.76367188e-02 -8.30078125e-02  6.78710938e-02 -3.54003906e-02\n",
      "  3.10546875e-01 -2.42919922e-02 -1.41601562e-01 -2.08007812e-01\n",
      " -4.57763672e-03 -6.54296875e-02 -4.95605469e-02  2.22656250e-01\n",
      "  1.53320312e-01 -1.38671875e-01 -5.24902344e-02  4.24804688e-02\n",
      " -2.38281250e-01  1.56250000e-01  5.83648682e-04 -1.20605469e-01\n",
      " -9.22851562e-02 -4.44335938e-02  3.61328125e-02 -1.86767578e-02\n",
      " -8.25195312e-02 -8.25195312e-02 -4.05273438e-02  1.19018555e-02\n",
      "  1.69921875e-01 -2.80761719e-02  3.03649902e-03  9.32617188e-02\n",
      " -8.49609375e-02  1.57470703e-02  7.03125000e-02  1.62353516e-02\n",
      " -2.27050781e-02  3.51562500e-02  2.47070312e-01 -2.67333984e-02]\n"
     ]
    }
   ],
   "source": [
    "print(model['United_States'])"
   ]
  },
  {
   "cell_type": "markdown",
   "metadata": {},
   "source": [
    "### 061 単語の類似度"
   ]
  },
  {
   "cell_type": "code",
   "execution_count": 4,
   "metadata": {},
   "outputs": [
    {
     "name": "stdout",
     "output_type": "stream",
     "text": [
      "cos simularity: 0.7310775\n"
     ]
    }
   ],
   "source": [
    "import numpy as np\n",
    "\n",
    "def cos_simularity(x, y):\n",
    "    return np.dot(x, y) /(np.linalg.norm(x) * np.linalg.norm(y))\n",
    "\n",
    "print('cos simularity:', cos_simularity(model['United_States'], model['U.S.']))"
   ]
  },
  {
   "cell_type": "markdown",
   "metadata": {},
   "source": [
    "### 062 類似度の高い単語10件"
   ]
  },
  {
   "cell_type": "code",
   "execution_count": 5,
   "metadata": {},
   "outputs": [
    {
     "data": {
      "text/plain": [
       "[('Unites_States', 0.7877248525619507),\n",
       " ('Untied_States', 0.7541370987892151),\n",
       " ('United_Sates', 0.7400724291801453),\n",
       " ('U.S.', 0.7310774326324463),\n",
       " ('theUnited_States', 0.6404393911361694),\n",
       " ('America', 0.6178410053253174),\n",
       " ('UnitedStates', 0.6167312264442444),\n",
       " ('Europe', 0.6132988929748535),\n",
       " ('countries', 0.6044804453849792),\n",
       " ('Canada', 0.601906955242157)]"
      ]
     },
     "execution_count": 5,
     "metadata": {},
     "output_type": "execute_result"
    }
   ],
   "source": [
    "model.most_similar('United_States')"
   ]
  },
  {
   "cell_type": "markdown",
   "metadata": {},
   "source": [
    "### 063 加法構成性によるアナロジー"
   ]
  },
  {
   "cell_type": "code",
   "execution_count": 6,
   "metadata": {},
   "outputs": [
    {
     "data": {
      "text/plain": [
       "[('Athens', 0.7528455853462219),\n",
       " ('Greece', 0.6685472130775452),\n",
       " ('Aristeidis_Grigoriadis', 0.5495778322219849),\n",
       " ('Ioannis_Drymonakos', 0.5361457467079163),\n",
       " ('Greeks', 0.5351786017417908),\n",
       " ('Ioannis_Christou', 0.5330225825309753),\n",
       " ('Hrysopiyi_Devetzi', 0.5088489055633545),\n",
       " ('Iraklion', 0.5059264302253723),\n",
       " ('Greek', 0.5040615797042847),\n",
       " ('Athens_Greece', 0.5034108757972717)]"
      ]
     },
     "execution_count": 6,
     "metadata": {},
     "output_type": "execute_result"
    }
   ],
   "source": [
    "vector = np.subtract(model['Spain'], model['Madrid'])\n",
    "vector = np.add(vector, model['Athens'])\n",
    "model.most_similar(vector)"
   ]
  },
  {
   "cell_type": "markdown",
   "metadata": {},
   "source": [
    "### 064 アナロジーデータでの実験"
   ]
  },
  {
   "cell_type": "code",
   "execution_count": 13,
   "metadata": {},
   "outputs": [
    {
     "name": "stdout",
     "output_type": "stream",
     "text": [
      "capital-common-countries Athens Greece Baghdad Iraq Baghdad 0.7489827275276184\n",
      "\n",
      "capital-common-countries Athens Greece Bangkok Thailand Bangkok 0.7431141138076782\n",
      "\n",
      "capital-common-countries Athens Greece Beijing China China 0.7186591625213623\n",
      "\n",
      "capital-common-countries Athens Greece Berlin Germany Germany 0.6720892190933228\n",
      "\n",
      "capital-common-countries Athens Greece Bern Switzerland Bern 0.6902341842651367\n",
      "\n",
      "capital-common-countries Athens Greece Cairo Egypt Egypt 0.7626821994781494\n",
      "\n",
      "capital-common-countries Athens Greece Canberra Australia Canberra 0.7407206892967224\n",
      "\n",
      "capital-common-countries Athens Greece Hanoi Vietnam Hanoi 0.7509902119636536\n",
      "\n",
      "capital-common-countries Athens Greece Havana Cuba Havana 0.7262827754020691\n",
      "\n",
      "capital-common-countries Athens Greece Helsinki Finland Helsinki 0.7235296368598938\n",
      "\n",
      "capital-common-countries Athens Greece Islamabad Pakistan Islamabad 0.7821410894393921\n",
      "\n",
      "capital-common-countries Athens Greece Kabul Afghanistan Kabul 0.7715259790420532\n",
      "\n",
      "capital-common-countries Athens Greece London England London 0.5891346335411072\n",
      "\n",
      "capital-common-countries Athens Greece Madrid Spain Spain 0.7145950198173523\n",
      "\n",
      "capital-common-countries Athens Greece Moscow Russia Russia 0.7455828785896301\n",
      "\n",
      "capital-common-countries Athens Greece Oslo Norway Oslo 0.7312971949577332\n",
      "\n",
      "capital-common-countries Athens Greece Ottawa Canada Ottawa 0.6877976059913635\n",
      "\n",
      "capital-common-countries Athens Greece Paris France France 0.6609893441200256\n",
      "\n",
      "capital-common-countries Athens Greece Rome Italy Italy 0.685460090637207\n",
      "\n",
      "capital-common-countries Athens Greece Stockholm Sweden Stockholm 0.7296958565711975\n",
      "\n",
      "capital-common-countries Athens Greece Tehran Iran Iran 0.8067934513092041\n",
      "\n",
      "capital-common-countries Athens Greece Tokyo Japan Tokyo 0.7448469996452332\n",
      "\n",
      "capital-common-countries Baghdad Iraq Bangkok Thailand Bangkok 0.7216478586196899\n",
      "\n",
      "capital-common-countries Baghdad Iraq Beijing China Beijing 0.6749864220619202\n",
      "\n",
      "capital-common-countries Baghdad Iraq Berlin Germany Berlin 0.6804245710372925\n",
      "\n",
      "capital-common-countries Baghdad Iraq Bern Switzerland Bern 0.7052912712097168\n",
      "\n",
      "capital-common-countries Baghdad Iraq Cairo Egypt Cairo 0.6563915610313416\n",
      "\n",
      "capital-common-countries Baghdad Iraq Canberra Australia Canberra 0.7491145133972168\n",
      "\n",
      "capital-common-countries Baghdad Iraq Hanoi Vietnam Hanoi 0.7305172681808472\n",
      "\n",
      "capital-common-countries Baghdad Iraq Havana Cuba Havana 0.7051246166229248\n",
      "\n",
      "capital-common-countries Baghdad Iraq Helsinki Finland Helsinki 0.7304092049598694\n",
      "\n",
      "capital-common-countries Baghdad Iraq Islamabad Pakistan Pakistan 0.7500633597373962\n",
      "\n",
      "capital-common-countries Baghdad Iraq Kabul Afghanistan Afghanistan 0.7953289747238159\n",
      "\n",
      "capital-common-countries Baghdad Iraq London England London 0.6022409200668335\n",
      "\n",
      "capital-common-countries Baghdad Iraq Madrid Spain Madrid 0.7033519744873047\n",
      "\n",
      "capital-common-countries Baghdad Iraq Moscow Russia Russia 0.6959004998207092\n",
      "\n",
      "capital-common-countries Baghdad Iraq Oslo Norway Oslo 0.7546603083610535\n",
      "\n",
      "capital-common-countries Baghdad Iraq Ottawa Canada Ottawa 0.702347457408905\n",
      "\n",
      "capital-common-countries Baghdad Iraq Paris France Paris 0.6539077758789062\n",
      "\n",
      "capital-common-countries Baghdad Iraq Rome Italy Rome 0.6650422215461731\n",
      "\n",
      "capital-common-countries Baghdad Iraq Stockholm Sweden Stockholm 0.7224470973014832\n",
      "\n",
      "capital-common-countries Baghdad Iraq Tehran Iran Iran 0.8142862319946289\n",
      "\n",
      "capital-common-countries Baghdad Iraq Tokyo Japan Tokyo 0.7173745632171631\n",
      "\n",
      "capital-common-countries Baghdad Iraq Athens Greece Athens 0.6883359551429749\n",
      "\n",
      "capital-common-countries Bangkok Thailand Beijing China China 0.7940762639045715\n",
      "\n",
      "capital-common-countries Bangkok Thailand Berlin Germany Germany 0.6952569484710693\n",
      "\n",
      "capital-common-countries Bangkok Thailand Bern Switzerland Bern 0.7475197911262512\n",
      "\n",
      "capital-common-countries Bangkok Thailand Cairo Egypt Egypt 0.7917213439941406\n",
      "\n",
      "capital-common-countries Bangkok Thailand Canberra Australia Canberra 0.7477318644523621\n",
      "\n",
      "capital-common-countries Bangkok Thailand Hanoi Vietnam Viet_Nam 0.7639291286468506\n",
      "\n",
      "capital-common-countries Bangkok Thailand Havana Cuba Cuba 0.7968915104866028\n",
      "\n",
      "capital-common-countries Bangkok Thailand Helsinki Finland Helsinki 0.757896363735199\n",
      "\n",
      "capital-common-countries Bangkok Thailand Islamabad Pakistan Pakistan 0.8046009540557861\n",
      "\n",
      "capital-common-countries Bangkok Thailand Kabul Afghanistan Kabul 0.7675443291664124\n",
      "\n",
      "capital-common-countries Bangkok Thailand London England Britain 0.6129388809204102\n",
      "\n",
      "capital-common-countries Bangkok Thailand Madrid Spain Spain 0.7420570850372314\n",
      "\n",
      "capital-common-countries Bangkok Thailand Moscow Russia Russia 0.8440237641334534\n",
      "\n",
      "capital-common-countries Bangkok Thailand Oslo Norway Oslo 0.751041054725647\n",
      "\n",
      "capital-common-countries Bangkok Thailand Ottawa Canada Ottawa 0.7202551960945129\n",
      "\n",
      "capital-common-countries Bangkok Thailand Paris France France 0.7117959260940552\n",
      "\n",
      "capital-common-countries Bangkok Thailand Rome Italy Rome 0.6821672320365906\n",
      "\n",
      "capital-common-countries Bangkok Thailand Stockholm Sweden Sweden 0.7468709945678711\n",
      "\n",
      "capital-common-countries Bangkok Thailand Tehran Iran Iran 0.8596372604370117\n",
      "\n",
      "capital-common-countries Bangkok Thailand Tokyo Japan Japan 0.8093464374542236\n",
      "\n",
      "capital-common-countries Bangkok Thailand Athens Greece Athens 0.7163594961166382\n",
      "\n",
      "capital-common-countries Bangkok Thailand Baghdad Iraq Baghdad 0.7641282081604004\n",
      "\n",
      "capital-common-countries Beijing China Berlin Germany Berlin 0.7787570953369141\n",
      "\n",
      "capital-common-countries Beijing China Bern Switzerland Bern 0.8243680000305176\n",
      "\n",
      "capital-common-countries Beijing China Cairo Egypt Cairo 0.8068007826805115\n",
      "\n",
      "capital-common-countries Beijing China Canberra Australia Canberra 0.8319714665412903\n",
      "\n",
      "capital-common-countries Beijing China Hanoi Vietnam Hanoi 0.8451120257377625\n",
      "\n",
      "capital-common-countries Beijing China Havana Cuba Havana 0.8328028917312622\n",
      "\n",
      "capital-common-countries Beijing China Helsinki Finland Helsinki 0.8295876979827881\n",
      "\n",
      "capital-common-countries Beijing China Islamabad Pakistan Islamabad 0.8558629155158997\n",
      "\n",
      "capital-common-countries Beijing China Kabul Afghanistan Kabul 0.8604939579963684\n",
      "\n",
      "capital-common-countries Beijing China London England London 0.7336542010307312\n",
      "\n",
      "capital-common-countries Beijing China Madrid Spain Madrid 0.7976326942443848\n",
      "\n"
     ]
    },
    {
     "ename": "KeyboardInterrupt",
     "evalue": "",
     "output_type": "error",
     "traceback": [
      "\u001b[0;31m---------------------------------------------------------------------------\u001b[0m",
      "\u001b[0;31mKeyboardInterrupt\u001b[0m                         Traceback (most recent call last)",
      "\u001b[1;32m/home/yuta/dev/nlp-100-nocks/src/060-069.ipynb Cell 12'\u001b[0m in \u001b[0;36m<cell line: 4>\u001b[0;34m()\u001b[0m\n\u001b[1;32m     <a href='vscode-notebook-cell://wsl%2Bubuntu-18.04/home/yuta/dev/nlp-100-nocks/src/060-069.ipynb#ch0000010vscode-remote?line=10'>11</a>\u001b[0m vector \u001b[39m=\u001b[39m np\u001b[39m.\u001b[39msubtract(model[line[\u001b[39m1\u001b[39m]], model[line[\u001b[39m0\u001b[39m]])\n\u001b[1;32m     <a href='vscode-notebook-cell://wsl%2Bubuntu-18.04/home/yuta/dev/nlp-100-nocks/src/060-069.ipynb#ch0000010vscode-remote?line=11'>12</a>\u001b[0m vector \u001b[39m=\u001b[39m np\u001b[39m.\u001b[39madd(vector, model[line[\u001b[39m2\u001b[39m]])\n\u001b[0;32m---> <a href='vscode-notebook-cell://wsl%2Bubuntu-18.04/home/yuta/dev/nlp-100-nocks/src/060-069.ipynb#ch0000010vscode-remote?line=12'>13</a>\u001b[0m word, sim \u001b[39m=\u001b[39m model\u001b[39m.\u001b[39;49mmost_similar(vector, topn\u001b[39m=\u001b[39;49m\u001b[39m1\u001b[39;49m)[\u001b[39m0\u001b[39m]\n\u001b[1;32m     <a href='vscode-notebook-cell://wsl%2Bubuntu-18.04/home/yuta/dev/nlp-100-nocks/src/060-069.ipynb#ch0000010vscode-remote?line=13'>14</a>\u001b[0m write_line \u001b[39m=\u001b[39m \u001b[39m'\u001b[39m\u001b[39m \u001b[39m\u001b[39m'\u001b[39m\u001b[39m.\u001b[39mjoin([category] \u001b[39m+\u001b[39m line \u001b[39m+\u001b[39m [word, \u001b[39mstr\u001b[39m(sim)\u001b[39m+\u001b[39m\u001b[39m'\u001b[39m\u001b[39m\\n\u001b[39;00m\u001b[39m'\u001b[39m])\n\u001b[1;32m     <a href='vscode-notebook-cell://wsl%2Bubuntu-18.04/home/yuta/dev/nlp-100-nocks/src/060-069.ipynb#ch0000010vscode-remote?line=14'>15</a>\u001b[0m calculated_file\u001b[39m.\u001b[39mwrite(write_line)\n",
      "File \u001b[0;32m~/.local/lib/python3.9/site-packages/gensim/models/keyedvectors.py:783\u001b[0m, in \u001b[0;36mKeyedVectors.most_similar\u001b[0;34m(self, positive, negative, topn, clip_start, clip_end, restrict_vocab, indexer)\u001b[0m\n\u001b[1;32m    <a href='file:///home/yuta/.local/lib/python3.9/site-packages/gensim/models/keyedvectors.py?line=779'>780</a>\u001b[0m \u001b[39mif\u001b[39;00m indexer \u001b[39mis\u001b[39;00m \u001b[39mnot\u001b[39;00m \u001b[39mNone\u001b[39;00m \u001b[39mand\u001b[39;00m \u001b[39misinstance\u001b[39m(topn, \u001b[39mint\u001b[39m):\n\u001b[1;32m    <a href='file:///home/yuta/.local/lib/python3.9/site-packages/gensim/models/keyedvectors.py?line=780'>781</a>\u001b[0m     \u001b[39mreturn\u001b[39;00m indexer\u001b[39m.\u001b[39mmost_similar(mean, topn)\n\u001b[0;32m--> <a href='file:///home/yuta/.local/lib/python3.9/site-packages/gensim/models/keyedvectors.py?line=782'>783</a>\u001b[0m dists \u001b[39m=\u001b[39m dot(\u001b[39mself\u001b[39;49m\u001b[39m.\u001b[39;49mvectors[clip_start:clip_end], mean) \u001b[39m/\u001b[39m \u001b[39mself\u001b[39m\u001b[39m.\u001b[39mnorms[clip_start:clip_end]\n\u001b[1;32m    <a href='file:///home/yuta/.local/lib/python3.9/site-packages/gensim/models/keyedvectors.py?line=783'>784</a>\u001b[0m \u001b[39mif\u001b[39;00m \u001b[39mnot\u001b[39;00m topn:\n\u001b[1;32m    <a href='file:///home/yuta/.local/lib/python3.9/site-packages/gensim/models/keyedvectors.py?line=784'>785</a>\u001b[0m     \u001b[39mreturn\u001b[39;00m dists\n",
      "File \u001b[0;32m<__array_function__ internals>:180\u001b[0m, in \u001b[0;36mdot\u001b[0;34m(*args, **kwargs)\u001b[0m\n",
      "\u001b[0;31mKeyboardInterrupt\u001b[0m: "
     ]
    }
   ],
   "source": [
    "analogy_file = open('../data/analogy.txt', 'r')\n",
    "calculated_file = open('../data/analogy_result.txt', 'w')\n",
    "result = []\n",
    "for line in analogy_file:\n",
    "    line = line.replace('\\n', '')\n",
    "    line = line.split(' ')\n",
    "    if line[0] == ':':\n",
    "        category = line[1]\n",
    "        continue\n",
    "    else:\n",
    "        vector = np.subtract(model[line[1]], model[line[0]])\n",
    "        vector = np.add(vector, model[line[2]])\n",
    "        word, sim = model.most_similar(vector, topn=1)[0]\n",
    "        write_line = ' '.join([category] + line + [word, str(sim)+'\\n'])\n",
    "        calculated_file.write(write_line)\n",
    "        print(write_line)"
   ]
  }
 ],
 "metadata": {
  "interpreter": {
   "hash": "aee8b7b246df8f9039afb4144a1f6fd8d2ca17a180786b69acc140d282b71a49"
  },
  "kernelspec": {
   "display_name": "Python 3.9.10 64-bit",
   "language": "python",
   "name": "python3"
  },
  "language_info": {
   "codemirror_mode": {
    "name": "ipython",
    "version": 3
   },
   "file_extension": ".py",
   "mimetype": "text/x-python",
   "name": "python",
   "nbconvert_exporter": "python",
   "pygments_lexer": "ipython3",
   "version": "3.9.10"
  },
  "orig_nbformat": 4
 },
 "nbformat": 4,
 "nbformat_minor": 2
}
